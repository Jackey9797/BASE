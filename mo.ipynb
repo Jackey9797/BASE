{
 "cells": [
  {
   "cell_type": "code",
   "execution_count": 2,
   "metadata": {},
   "outputs": [],
   "source": [
    "# 读所有 log name\n",
    "logpath = \"./ablation/\"\n",
    "# logpath = \"./mainresult/\"\n",
    "import os\n",
    "log_files = [logpath + f for f in os.listdir(logpath) if f.endswith(\".log\")]\n"
   ]
  },
  {
   "cell_type": "code",
   "execution_count": 6,
   "metadata": {},
   "outputs": [],
   "source": [
    "# 读所有 checkpts ， test， 然后写回 \n",
    "\n",
    "#* get all log file name \n",
    "\n",
    "#* read one by one \n",
    "\n",
    "#* test on the main.py \n",
    "\n",
    "#* set the result back \n",
    "\n",
    "import os\n",
    "import re\n",
    "\n",
    "# 指定目录路径\n",
    "# 使用正则表达式匹配\"check ... \"的模式\n",
    "pattern = r\"check\\s+(.*?)\\s\"\n",
    "\n",
    "# 用于存储目标目录的临时变量\n",
    "target_directories = []\n",
    "\n",
    "# 遍历所有以.log结尾的文件\n",
    "for file_name in log_files:\n",
    "    with open(file_name, 'r') as file:\n",
    "        # 逐行读取文件内容\n",
    "        for line in file:\n",
    "            matches = re.findall(pattern, line)\n",
    "            if matches:\n",
    "                x = matches[0] # x is the test model path\n",
    "                last_slash_index = x.rfind(\"/\")\n",
    "                if last_slash_index != -1:\n",
    "                    x = x[:last_slash_index+1] + \"best_model.pkl\"\n",
    "                target_directories.append(x)\n",
    "\n",
    "# 打印目标目录列表\n",
    "# for directory in target_directories:\n",
    "#     print(directory)"
   ]
  },
  {
   "cell_type": "code",
   "execution_count": null,
   "metadata": {},
   "outputs": [],
   "source": []
  }
 ],
 "metadata": {
  "kernelspec": {
   "display_name": "torch",
   "language": "python",
   "name": "python3"
  },
  "language_info": {
   "codemirror_mode": {
    "name": "ipython",
    "version": 3
   },
   "file_extension": ".py",
   "mimetype": "text/x-python",
   "name": "python",
   "nbconvert_exporter": "python",
   "pygments_lexer": "ipython3",
   "version": "3.10.9"
  },
  "orig_nbformat": 4
 },
 "nbformat": 4,
 "nbformat_minor": 2
}
